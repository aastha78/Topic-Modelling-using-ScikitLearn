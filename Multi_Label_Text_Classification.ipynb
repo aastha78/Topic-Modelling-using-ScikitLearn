{
  "cells": [
    {
      "cell_type": "code",
      "execution_count": null,
      "metadata": {
        "id": "oSY0kvegUjYd"
      },
      "outputs": [],
      "source": [
        "import os\n",
        "import pandas as pd\n",
        "import numpy as np\n",
        "from scipy.stats import randint\n",
        "import seaborn as sns # used for plot interactive graph.\n",
        "import matplotlib.pyplot as plt\n",
        "import seaborn as sns\n",
        "from io import StringIO\n",
        "from sklearn.feature_extraction.text import TfidfVectorizer\n",
        "from sklearn.feature_selection import chi2\n",
        "from IPython.display import display\n",
        "from sklearn.model_selection import train_test_split\n",
        "from sklearn.feature_extraction.text import TfidfTransformer\n",
        "from sklearn.naive_bayes import MultinomialNB\n",
        "from sklearn.linear_model import LogisticRegression\n",
        "from sklearn.ensemble import RandomForestClassifier\n",
        "from sklearn.svm import LinearSVC\n",
        "from sklearn.model_selection import cross_val_score\n",
        "from sklearn.metrics import confusion_matrix\n",
        "from sklearn import metrics\n",
        "from nltk.corpus import stopwords\n",
        "from nltk.stem import WordNetLemmatizer\n",
        "import re"
      ]
    },
    {
      "cell_type": "code",
      "execution_count": null,
      "metadata": {
        "id": "2t-UszZ-bsVW"
      },
      "outputs": [],
      "source": [
        "df=pd.read_csv(\"/content/supervised_data_keywords2.csv\")"
      ]
    },
    {
      "cell_type": "code",
      "execution_count": null,
      "metadata": {
        "colab": {
          "base_uri": "https://localhost:8080/",
          "height": 145
        },
        "id": "C8-7LzDHb35E",
        "outputId": "0e664f0d-381c-4233-ac26-342c2ae00f85"
      },
      "outputs": [
        {
          "output_type": "execute_result",
          "data": {
            "text/plain": [
              "'Mamata cries foul over BJP’s fact-finding report on Birbhum violence\\nInterference by a party at this stage will mean misleading and distorting the probe and people will lose confidence in the investigation, she says\\n\\nMembers of BJP’s fact-finding committee hand over their official report regarding the Birbhum-violence, where nine people were burnt alive in the Rampurhat area, to BJP National President JP Nadda, in New Delhi, on March 30, 2022. | Photo Credit: PTI\\n\\nInterference by a party at this stage will mean misleading and distorting the probe and people will lose confidence in the investigation, she says\\n\\nWest Bengal Chief Minister Mamata Banerjee on Wednesday expressed serious reservations over a BJP delegation submitting a report to party president J. P. Nadda on the Rampurhat massacre.\\n\\nShe said interference by a party at this stage would mean misleading and distorting the investigation and people would lose confidence in the probe.\\n\\nNine killed\\n\\nNine people lost their lives when several houses were set on fire at Bogtui village in Rampurhat block in Birbhum district on March 21. The violence was a retaliation to the murder of Trinamool Congress deputy pradhan Bhadu Sheikh hours ago the same evening. On March 25, the Calcutta High Court directed a CBI probe into the violence.\\n\\n“I condemn this type of attitude. The government must see [take note], when any incident happens anywhere in the world, when investigation is on, there should be any interference from party side or any side,” she stated.\\n\\nThe Chief Minister, who is visiting Darjeeling district, called for a free and fair investigation into the violence. “Investigation must be free and fair. Party interference at this moment absolutely means misuse and abuse of power. This misuse of power will mislead the investigation, distort the investigation and people will lose confidence about the investigation,” she observed.\\n\\n‘Nadda expressed concern’\\n\\nWest Bengal BJP president Sukanta Majumdar said a fact-finding report by a BJP delegation was submitted to party national president J .P Nadda. “He [Mr. Nadda] expressed concern at how such a massacre can take place and how the police play such an irresponsible role.” The BJP committee had highlighted the law and order situation and sought Central intervention in the State, he added.\\n\\nAlong with Mr. Majumdar, former Uttar Pradesh DGP Brij Lal, Mumbai ex-police commissioner Satya Pal Singh and retired IPS officer Bharati Ghosh were part of the committee of the BJP that visited the village and submitted the report to Mr. Nadda during the day.\\n\\nAfter the CBI probe in the Rampurhat violence, the Trinamool Congress leadership, including the Chief Minister, had said that “if the CBI, at the instance of the BJP, makes an effort to indulge in politics of vendetta, there will be protests and mass agitation”. On Wednesday Ms. Banerjee accused the BJP of already targeting TMC Birbhum district president Anubrata Mondal. She alleged that they wanted him arrested. “This is very unfair, people are not getting justice and forcefully they want to evict all political parties,” she said.\\n\\nAt Bogtui, some villagers who had fled the village after violence returned to their homes under police protection. Three more persons have been arrested in connection with the murder of Bhadu Sheikh.'"
            ],
            "application/vnd.google.colaboratory.intrinsic+json": {
              "type": "string"
            }
          },
          "metadata": {},
          "execution_count": 4
        }
      ],
      "source": [
        "df.text[1]"
      ]
    },
    {
      "cell_type": "code",
      "execution_count": null,
      "metadata": {
        "colab": {
          "base_uri": "https://localhost:8080/"
        },
        "id": "bZDeV0RQrdfl",
        "outputId": "ec476376-bb54-49b7-9492-cd12323e4c0e"
      },
      "outputs": [
        {
          "output_type": "stream",
          "name": "stdout",
          "text": [
            "[nltk_data] Downloading package stopwords to /root/nltk_data...\n",
            "[nltk_data]   Unzipping corpora/stopwords.zip.\n"
          ]
        }
      ],
      "source": [
        "import nltk \n",
        "nltk.download('stopwords')\n",
        "stop_words = stopwords.words('english')"
      ]
    },
    {
      "cell_type": "code",
      "source": [
        "text=[\"raj living in delhi\"]\n",
        "for i in text:\n",
        "  print(lemmatizing(i))"
      ],
      "metadata": {
        "colab": {
          "base_uri": "https://localhost:8080/",
          "height": 207
        },
        "id": "9lJATQuDY9Sd",
        "outputId": "09eb4af2-c1a4-4d42-df92-2fe952ef251c"
      },
      "execution_count": null,
      "outputs": [
        {
          "output_type": "error",
          "ename": "NameError",
          "evalue": "ignored",
          "traceback": [
            "\u001b[0;31m---------------------------------------------------------------------------\u001b[0m",
            "\u001b[0;31mNameError\u001b[0m                                 Traceback (most recent call last)",
            "\u001b[0;32m<ipython-input-6-6864043a1d56>\u001b[0m in \u001b[0;36m<module>\u001b[0;34m()\u001b[0m\n\u001b[1;32m      1\u001b[0m \u001b[0mtext\u001b[0m\u001b[0;34m=\u001b[0m\u001b[0;34m[\u001b[0m\u001b[0;34m\"raj living in delhi\"\u001b[0m\u001b[0;34m]\u001b[0m\u001b[0;34m\u001b[0m\u001b[0;34m\u001b[0m\u001b[0m\n\u001b[1;32m      2\u001b[0m \u001b[0;32mfor\u001b[0m \u001b[0mi\u001b[0m \u001b[0;32min\u001b[0m \u001b[0mtext\u001b[0m\u001b[0;34m:\u001b[0m\u001b[0;34m\u001b[0m\u001b[0;34m\u001b[0m\u001b[0m\n\u001b[0;32m----> 3\u001b[0;31m   \u001b[0mprint\u001b[0m\u001b[0;34m(\u001b[0m\u001b[0mlemmatizing\u001b[0m\u001b[0;34m(\u001b[0m\u001b[0mi\u001b[0m\u001b[0;34m)\u001b[0m\u001b[0;34m)\u001b[0m\u001b[0;34m\u001b[0m\u001b[0;34m\u001b[0m\u001b[0m\n\u001b[0m",
            "\u001b[0;31mNameError\u001b[0m: name 'lemmatizing' is not defined"
          ]
        }
      ]
    },
    {
      "cell_type": "code",
      "source": [
        "nltk.download('wordnet')"
      ],
      "metadata": {
        "colab": {
          "base_uri": "https://localhost:8080/"
        },
        "id": "Vp3qloIeZiRD",
        "outputId": "624430e2-9f6f-469e-eea6-044f574797ce"
      },
      "execution_count": null,
      "outputs": [
        {
          "output_type": "stream",
          "name": "stdout",
          "text": [
            "[nltk_data] Downloading package wordnet to /root/nltk_data...\n",
            "[nltk_data]   Unzipping corpora/wordnet.zip.\n"
          ]
        },
        {
          "output_type": "execute_result",
          "data": {
            "text/plain": [
              "True"
            ]
          },
          "metadata": {},
          "execution_count": 7
        }
      ]
    },
    {
      "cell_type": "code",
      "execution_count": null,
      "metadata": {
        "id": "VZjAN02aq8R1"
      },
      "outputs": [],
      "source": [
        "def remove_punct(text):\n",
        "    text = re.sub('[^a-zA-Z]',' ',text)\n",
        "    return text\n",
        "\n",
        "def remove_stopwords(text):\n",
        "    text = text.split()\n",
        "    text = [w for w in text if not w in stop_words]\n",
        "    text = ' '.join(text)\n",
        "    return text\n",
        "\n",
        "lemmatizer = WordNetLemmatizer()\n",
        "def lemmatizing(text):\n",
        "    text = text.lower()\n",
        "    text = text.split()\n",
        "    word =[]\n",
        "    for i in text:\n",
        "        word.append(lemmatizer.lemmatize(i))\n",
        "    text = ' '.join(word)\n",
        "    return text"
      ]
    },
    {
      "cell_type": "code",
      "execution_count": null,
      "metadata": {
        "id": "w5at4s1irFCK"
      },
      "outputs": [],
      "source": [
        "df['text'] = df['text'].apply(remove_punct)"
      ]
    },
    {
      "cell_type": "code",
      "execution_count": null,
      "metadata": {
        "id": "VOQ9FhZwrRpq"
      },
      "outputs": [],
      "source": [
        "df['text'] = df['text'].apply(remove_stopwords)"
      ]
    },
    {
      "cell_type": "code",
      "execution_count": null,
      "metadata": {
        "colab": {
          "base_uri": "https://localhost:8080/"
        },
        "id": "tFE0DbvDrg7q",
        "outputId": "9164c691-ecb0-4bbf-be73-0449d8f192b4"
      },
      "outputs": [
        {
          "output_type": "stream",
          "name": "stdout",
          "text": [
            "[nltk_data] Downloading package wordnet to /root/nltk_data...\n",
            "[nltk_data]   Package wordnet is already up-to-date!\n"
          ]
        }
      ],
      "source": [
        "nltk.download('wordnet')\n",
        "df['text'] = df['text'].apply(lemmatizing)"
      ]
    },
    {
      "cell_type": "code",
      "execution_count": null,
      "metadata": {
        "colab": {
          "base_uri": "https://localhost:8080/"
        },
        "id": "OpkjxfGErpZ9",
        "outputId": "84a40e64-8bc7-4d64-b6af-a288a6af519d"
      },
      "outputs": [
        {
          "output_type": "execute_result",
          "data": {
            "text/plain": [
              "0      man arrested selling opium the city police arr...\n",
              "1      mamata cry foul bjp fact finding report birbhu...\n",
              "2      bengal governor seek interaction cm rampurhat ...\n",
              "3      all sample seized narcotic psychotropic drug n...\n",
              "4      mumbai three arrested anc r cr drug seized in ...\n",
              "                             ...                        \n",
              "299    hero motocorp tax case i t find r cr siphoned ...\n",
              "300    maharashtra cbi allowed seek custody anil desh...\n",
              "301    maharashtra enforcement directorate nabs lawye...\n",
              "302    ed arrest nagpur lawyer filed case devendra fa...\n",
              "303    enforcement directorate attache cr property am...\n",
              "Name: text, Length: 304, dtype: object"
            ]
          },
          "metadata": {},
          "execution_count": 14
        }
      ],
      "source": [
        "df[\"text\"]"
      ]
    },
    {
      "cell_type": "code",
      "execution_count": null,
      "metadata": {
        "colab": {
          "base_uri": "https://localhost:8080/",
          "height": 424
        },
        "id": "UqfsWOqDpHlR",
        "outputId": "31dd390c-b65c-43e6-da35-889e7e7de5c0"
      },
      "outputs": [
        {
          "output_type": "execute_result",
          "data": {
            "text/plain": [
              "                                                  text  \\\n",
              "0    man arrested selling opium the city police arr...   \n",
              "1    mamata cry foul bjp fact finding report birbhu...   \n",
              "2    bengal governor seek interaction cm rampurhat ...   \n",
              "3    all sample seized narcotic psychotropic drug n...   \n",
              "4    mumbai three arrested anc r cr drug seized in ...   \n",
              "..                                                 ...   \n",
              "299  hero motocorp tax case i t find r cr siphoned ...   \n",
              "300  maharashtra cbi allowed seek custody anil desh...   \n",
              "301  maharashtra enforcement directorate nabs lawye...   \n",
              "302  ed arrest nagpur lawyer filed case devendra fa...   \n",
              "303  enforcement directorate attache cr property am...   \n",
              "\n",
              "                                               keyword  \n",
              "0                                                opium  \n",
              "1                                                  CBI  \n",
              "2                                                  CBI  \n",
              "3    Central Bureau of Investigation | National Inv...  \n",
              "4                                            narcotics  \n",
              "..                                                 ...  \n",
              "299                                           siphoned  \n",
              "300  CBI | NIA | enforcement directorate | money la...  \n",
              "301   CBI | enforcement directorate | money laundering  \n",
              "302                      CBI | enforcement directorate  \n",
              "303  enforcement directorate | fraud | money launde...  \n",
              "\n",
              "[304 rows x 2 columns]"
            ],
            "text/html": [
              "\n",
              "  <div id=\"df-19973df9-32b3-481d-a485-9d1bd18eb814\">\n",
              "    <div class=\"colab-df-container\">\n",
              "      <div>\n",
              "<style scoped>\n",
              "    .dataframe tbody tr th:only-of-type {\n",
              "        vertical-align: middle;\n",
              "    }\n",
              "\n",
              "    .dataframe tbody tr th {\n",
              "        vertical-align: top;\n",
              "    }\n",
              "\n",
              "    .dataframe thead th {\n",
              "        text-align: right;\n",
              "    }\n",
              "</style>\n",
              "<table border=\"1\" class=\"dataframe\">\n",
              "  <thead>\n",
              "    <tr style=\"text-align: right;\">\n",
              "      <th></th>\n",
              "      <th>text</th>\n",
              "      <th>keyword</th>\n",
              "    </tr>\n",
              "  </thead>\n",
              "  <tbody>\n",
              "    <tr>\n",
              "      <th>0</th>\n",
              "      <td>man arrested selling opium the city police arr...</td>\n",
              "      <td>opium</td>\n",
              "    </tr>\n",
              "    <tr>\n",
              "      <th>1</th>\n",
              "      <td>mamata cry foul bjp fact finding report birbhu...</td>\n",
              "      <td>CBI</td>\n",
              "    </tr>\n",
              "    <tr>\n",
              "      <th>2</th>\n",
              "      <td>bengal governor seek interaction cm rampurhat ...</td>\n",
              "      <td>CBI</td>\n",
              "    </tr>\n",
              "    <tr>\n",
              "      <th>3</th>\n",
              "      <td>all sample seized narcotic psychotropic drug n...</td>\n",
              "      <td>Central Bureau of Investigation | National Inv...</td>\n",
              "    </tr>\n",
              "    <tr>\n",
              "      <th>4</th>\n",
              "      <td>mumbai three arrested anc r cr drug seized in ...</td>\n",
              "      <td>narcotics</td>\n",
              "    </tr>\n",
              "    <tr>\n",
              "      <th>...</th>\n",
              "      <td>...</td>\n",
              "      <td>...</td>\n",
              "    </tr>\n",
              "    <tr>\n",
              "      <th>299</th>\n",
              "      <td>hero motocorp tax case i t find r cr siphoned ...</td>\n",
              "      <td>siphoned</td>\n",
              "    </tr>\n",
              "    <tr>\n",
              "      <th>300</th>\n",
              "      <td>maharashtra cbi allowed seek custody anil desh...</td>\n",
              "      <td>CBI | NIA | enforcement directorate | money la...</td>\n",
              "    </tr>\n",
              "    <tr>\n",
              "      <th>301</th>\n",
              "      <td>maharashtra enforcement directorate nabs lawye...</td>\n",
              "      <td>CBI | enforcement directorate | money laundering</td>\n",
              "    </tr>\n",
              "    <tr>\n",
              "      <th>302</th>\n",
              "      <td>ed arrest nagpur lawyer filed case devendra fa...</td>\n",
              "      <td>CBI | enforcement directorate</td>\n",
              "    </tr>\n",
              "    <tr>\n",
              "      <th>303</th>\n",
              "      <td>enforcement directorate attache cr property am...</td>\n",
              "      <td>enforcement directorate | fraud | money launde...</td>\n",
              "    </tr>\n",
              "  </tbody>\n",
              "</table>\n",
              "<p>304 rows × 2 columns</p>\n",
              "</div>\n",
              "      <button class=\"colab-df-convert\" onclick=\"convertToInteractive('df-19973df9-32b3-481d-a485-9d1bd18eb814')\"\n",
              "              title=\"Convert this dataframe to an interactive table.\"\n",
              "              style=\"display:none;\">\n",
              "        \n",
              "  <svg xmlns=\"http://www.w3.org/2000/svg\" height=\"24px\"viewBox=\"0 0 24 24\"\n",
              "       width=\"24px\">\n",
              "    <path d=\"M0 0h24v24H0V0z\" fill=\"none\"/>\n",
              "    <path d=\"M18.56 5.44l.94 2.06.94-2.06 2.06-.94-2.06-.94-.94-2.06-.94 2.06-2.06.94zm-11 1L8.5 8.5l.94-2.06 2.06-.94-2.06-.94L8.5 2.5l-.94 2.06-2.06.94zm10 10l.94 2.06.94-2.06 2.06-.94-2.06-.94-.94-2.06-.94 2.06-2.06.94z\"/><path d=\"M17.41 7.96l-1.37-1.37c-.4-.4-.92-.59-1.43-.59-.52 0-1.04.2-1.43.59L10.3 9.45l-7.72 7.72c-.78.78-.78 2.05 0 2.83L4 21.41c.39.39.9.59 1.41.59.51 0 1.02-.2 1.41-.59l7.78-7.78 2.81-2.81c.8-.78.8-2.07 0-2.86zM5.41 20L4 18.59l7.72-7.72 1.47 1.35L5.41 20z\"/>\n",
              "  </svg>\n",
              "      </button>\n",
              "      \n",
              "  <style>\n",
              "    .colab-df-container {\n",
              "      display:flex;\n",
              "      flex-wrap:wrap;\n",
              "      gap: 12px;\n",
              "    }\n",
              "\n",
              "    .colab-df-convert {\n",
              "      background-color: #E8F0FE;\n",
              "      border: none;\n",
              "      border-radius: 50%;\n",
              "      cursor: pointer;\n",
              "      display: none;\n",
              "      fill: #1967D2;\n",
              "      height: 32px;\n",
              "      padding: 0 0 0 0;\n",
              "      width: 32px;\n",
              "    }\n",
              "\n",
              "    .colab-df-convert:hover {\n",
              "      background-color: #E2EBFA;\n",
              "      box-shadow: 0px 1px 2px rgba(60, 64, 67, 0.3), 0px 1px 3px 1px rgba(60, 64, 67, 0.15);\n",
              "      fill: #174EA6;\n",
              "    }\n",
              "\n",
              "    [theme=dark] .colab-df-convert {\n",
              "      background-color: #3B4455;\n",
              "      fill: #D2E3FC;\n",
              "    }\n",
              "\n",
              "    [theme=dark] .colab-df-convert:hover {\n",
              "      background-color: #434B5C;\n",
              "      box-shadow: 0px 1px 3px 1px rgba(0, 0, 0, 0.15);\n",
              "      filter: drop-shadow(0px 1px 2px rgba(0, 0, 0, 0.3));\n",
              "      fill: #FFFFFF;\n",
              "    }\n",
              "  </style>\n",
              "\n",
              "      <script>\n",
              "        const buttonEl =\n",
              "          document.querySelector('#df-19973df9-32b3-481d-a485-9d1bd18eb814 button.colab-df-convert');\n",
              "        buttonEl.style.display =\n",
              "          google.colab.kernel.accessAllowed ? 'block' : 'none';\n",
              "\n",
              "        async function convertToInteractive(key) {\n",
              "          const element = document.querySelector('#df-19973df9-32b3-481d-a485-9d1bd18eb814');\n",
              "          const dataTable =\n",
              "            await google.colab.kernel.invokeFunction('convertToInteractive',\n",
              "                                                     [key], {});\n",
              "          if (!dataTable) return;\n",
              "\n",
              "          const docLinkHtml = 'Like what you see? Visit the ' +\n",
              "            '<a target=\"_blank\" href=https://colab.research.google.com/notebooks/data_table.ipynb>data table notebook</a>'\n",
              "            + ' to learn more about interactive tables.';\n",
              "          element.innerHTML = '';\n",
              "          dataTable['output_type'] = 'display_data';\n",
              "          await google.colab.output.renderOutput(dataTable, element);\n",
              "          const docLink = document.createElement('div');\n",
              "          docLink.innerHTML = docLinkHtml;\n",
              "          element.appendChild(docLink);\n",
              "        }\n",
              "      </script>\n",
              "    </div>\n",
              "  </div>\n",
              "  "
            ]
          },
          "metadata": {},
          "execution_count": 15
        }
      ],
      "source": [
        "df"
      ]
    },
    {
      "cell_type": "code",
      "execution_count": null,
      "metadata": {
        "colab": {
          "base_uri": "https://localhost:8080/"
        },
        "id": "vzSSYfQnb4w1",
        "outputId": "61fc178c-4fd2-4256-da67-3074cf50a72b"
      },
      "outputs": [
        {
          "output_type": "execute_result",
          "data": {
            "text/plain": [
              "array([['opium'],\n",
              "       ['CBI'],\n",
              "       ['Central Bureau of Investigation | National Investigation Agency | drug contraband | narcotics'],\n",
              "       ['narcotics'],\n",
              "       ['CBI | Central Bureau of Investigation'],\n",
              "       ['NIA | National Investigation Agency | heroin | smuggling'],\n",
              "       ['terror'],\n",
              "       ['CBI | Central Bureau of Investigation | enforcement directorate | smuggling'],\n",
              "       ['fraud'],\n",
              "       ['Central Bureau of Investigation | drug contraband | narcotics'],\n",
              "       ['enforcement directorate | money laundering | smuggling'],\n",
              "       ['smuggling'],\n",
              "       ['drug illegal'],\n",
              "       ['siphoned'],\n",
              "       ['ganja'],\n",
              "       ['NIA | National Investigation Agency'],\n",
              "       ['drug contraband | narcotics'],\n",
              "       ['enforcement directorate | money laundering'],\n",
              "       ['drug contraband | heroin | narcotics'],\n",
              "       ['heroin | narcotics'],\n",
              "       ['drug trafficking | heroin | human trafficking'],\n",
              "       ['narcotics | opium'],\n",
              "       ['CBI | smuggling'],\n",
              "       ['CBI | Central Bureau of Investigation | fraud'],\n",
              "       ['National Investigation Agency'],\n",
              "       ['heroin'],\n",
              "       ['ganja | smuggling'],\n",
              "       ['money launder'],\n",
              "       ['drug illegal | money launder | money laundering'],\n",
              "       ['plastic money'],\n",
              "       ['enforcement directorate'],\n",
              "       ['enforcement directorate | smuggling'],\n",
              "       ['NIA | National Investigation Agency | heroin'],\n",
              "       ['money laundering'],\n",
              "       ['Hawala'],\n",
              "       ['Hawala | NIA | National Investigation Agency | drug contraband | heroin | smuggling'],\n",
              "       ['human trafficking'],\n",
              "       ['CBI | Central Bureau of Investigation | drug illegal | enforcement directorate'],\n",
              "       ['CBI | enforcement directorate | fraud | money laundering'],\n",
              "       ['drug arrest | drug seize | heroin'],\n",
              "       ['enforcement directorate | money laundering | siphoned'],\n",
              "       ['NIA | National Investigation Agency | terror'],\n",
              "       ['NIA'],\n",
              "       ['money laundering | terror'],\n",
              "       ['CBI | enforcement directorate'],\n",
              "       ['Central Bureau of Investigation | narcotics'],\n",
              "       ['Central Bureau of Investigation | enforcement directorate | money laundering'],\n",
              "       ['Central Bureau of Investigation'],\n",
              "       ['ganja | narcotics'],\n",
              "       ['drug arrest | ganja'],\n",
              "       ['fraud | siphoned'],\n",
              "       ['CBI | Central Bureau of Investigation | National Investigation Agency | enforcement directorate | smuggling'],\n",
              "       ['drug arrest | drug illegal | drug seize | ganja | smuggling'],\n",
              "       ['drug illegal | smuggling'],\n",
              "       ['drug illegal | drug trafficking | narcotics'],\n",
              "       ['enforcement directorate | fraud | money laundering'],\n",
              "       ['CBI | enforcement directorate | money laundering'],\n",
              "       ['CBI | Central Bureau of Investigation | enforcement directorate | money laundering'],\n",
              "       ['NIA | terror'],\n",
              "       ['Hawala | fraud | siphoned'],\n",
              "       ['money laundering | siphoned'],\n",
              "       ['CBI | National Investigation Agency'],\n",
              "       ['drug arrest | drug illegal | terror'],\n",
              "       ['drug arrest | drug illegal'],\n",
              "       ['drug arrest | ganja | narcotics'],\n",
              "       ['National Investigation Agency | terror'],\n",
              "       ['fraud | money laundering'],\n",
              "       ['drug arrest | drug contraband | ganja'],\n",
              "       ['smuggling | terror | terror financing'],\n",
              "       ['CBI | Central Bureau of Investigation | National Investigation Agency'],\n",
              "       ['enforcement directorate | siphoned'],\n",
              "       ['CBI | Central Bureau of Investigation | NIA | National Investigation Agency | terror'],\n",
              "       ['National Investigation Agency | narcotics'],\n",
              "       ['drug confiscate | drug seize | narcotics'],\n",
              "       ['Central Bureau of Investigation | National Investigation Agency | enforcement directorate'],\n",
              "       ['CBI | NIA | enforcement directorate | money laundering | terror'],\n",
              "       ['CBI | Central Bureau of Investigation | enforcement directorate | fraud | money laundering'],\n",
              "       ['enforcement directorate | fraud'],\n",
              "       ['NIA | National Investigation Agency | heroin | terror'],\n",
              "       ['CBI | Hawala | enforcement directorate'],\n",
              "       ['CBI | NIA | enforcement directorate | money laundering']],\n",
              "      dtype=object)"
            ]
          },
          "metadata": {},
          "execution_count": 16
        }
      ],
      "source": [
        "pd.DataFrame(df.keyword.unique()).values"
      ]
    },
    {
      "cell_type": "code",
      "execution_count": null,
      "metadata": {
        "colab": {
          "base_uri": "https://localhost:8080/",
          "height": 237
        },
        "id": "AVRqnR_pcJG4",
        "outputId": "877caf7a-16f0-47f3-dc0e-127ddd8d6370"
      },
      "outputs": [
        {
          "output_type": "execute_result",
          "data": {
            "text/plain": [
              "                   0\n",
              "0              drugs\n",
              "1      CBI or others\n",
              "2          terrorism\n",
              "3   money laundering\n",
              "4              fraud\n",
              "5  human trafficking"
            ],
            "text/html": [
              "\n",
              "  <div id=\"df-aead80f7-f756-46d3-93c1-342054137611\">\n",
              "    <div class=\"colab-df-container\">\n",
              "      <div>\n",
              "<style scoped>\n",
              "    .dataframe tbody tr th:only-of-type {\n",
              "        vertical-align: middle;\n",
              "    }\n",
              "\n",
              "    .dataframe tbody tr th {\n",
              "        vertical-align: top;\n",
              "    }\n",
              "\n",
              "    .dataframe thead th {\n",
              "        text-align: right;\n",
              "    }\n",
              "</style>\n",
              "<table border=\"1\" class=\"dataframe\">\n",
              "  <thead>\n",
              "    <tr style=\"text-align: right;\">\n",
              "      <th></th>\n",
              "      <th>0</th>\n",
              "    </tr>\n",
              "  </thead>\n",
              "  <tbody>\n",
              "    <tr>\n",
              "      <th>0</th>\n",
              "      <td>drugs</td>\n",
              "    </tr>\n",
              "    <tr>\n",
              "      <th>1</th>\n",
              "      <td>CBI or others</td>\n",
              "    </tr>\n",
              "    <tr>\n",
              "      <th>2</th>\n",
              "      <td>terrorism</td>\n",
              "    </tr>\n",
              "    <tr>\n",
              "      <th>3</th>\n",
              "      <td>money laundering</td>\n",
              "    </tr>\n",
              "    <tr>\n",
              "      <th>4</th>\n",
              "      <td>fraud</td>\n",
              "    </tr>\n",
              "    <tr>\n",
              "      <th>5</th>\n",
              "      <td>human trafficking</td>\n",
              "    </tr>\n",
              "  </tbody>\n",
              "</table>\n",
              "</div>\n",
              "      <button class=\"colab-df-convert\" onclick=\"convertToInteractive('df-aead80f7-f756-46d3-93c1-342054137611')\"\n",
              "              title=\"Convert this dataframe to an interactive table.\"\n",
              "              style=\"display:none;\">\n",
              "        \n",
              "  <svg xmlns=\"http://www.w3.org/2000/svg\" height=\"24px\"viewBox=\"0 0 24 24\"\n",
              "       width=\"24px\">\n",
              "    <path d=\"M0 0h24v24H0V0z\" fill=\"none\"/>\n",
              "    <path d=\"M18.56 5.44l.94 2.06.94-2.06 2.06-.94-2.06-.94-.94-2.06-.94 2.06-2.06.94zm-11 1L8.5 8.5l.94-2.06 2.06-.94-2.06-.94L8.5 2.5l-.94 2.06-2.06.94zm10 10l.94 2.06.94-2.06 2.06-.94-2.06-.94-.94-2.06-.94 2.06-2.06.94z\"/><path d=\"M17.41 7.96l-1.37-1.37c-.4-.4-.92-.59-1.43-.59-.52 0-1.04.2-1.43.59L10.3 9.45l-7.72 7.72c-.78.78-.78 2.05 0 2.83L4 21.41c.39.39.9.59 1.41.59.51 0 1.02-.2 1.41-.59l7.78-7.78 2.81-2.81c.8-.78.8-2.07 0-2.86zM5.41 20L4 18.59l7.72-7.72 1.47 1.35L5.41 20z\"/>\n",
              "  </svg>\n",
              "      </button>\n",
              "      \n",
              "  <style>\n",
              "    .colab-df-container {\n",
              "      display:flex;\n",
              "      flex-wrap:wrap;\n",
              "      gap: 12px;\n",
              "    }\n",
              "\n",
              "    .colab-df-convert {\n",
              "      background-color: #E8F0FE;\n",
              "      border: none;\n",
              "      border-radius: 50%;\n",
              "      cursor: pointer;\n",
              "      display: none;\n",
              "      fill: #1967D2;\n",
              "      height: 32px;\n",
              "      padding: 0 0 0 0;\n",
              "      width: 32px;\n",
              "    }\n",
              "\n",
              "    .colab-df-convert:hover {\n",
              "      background-color: #E2EBFA;\n",
              "      box-shadow: 0px 1px 2px rgba(60, 64, 67, 0.3), 0px 1px 3px 1px rgba(60, 64, 67, 0.15);\n",
              "      fill: #174EA6;\n",
              "    }\n",
              "\n",
              "    [theme=dark] .colab-df-convert {\n",
              "      background-color: #3B4455;\n",
              "      fill: #D2E3FC;\n",
              "    }\n",
              "\n",
              "    [theme=dark] .colab-df-convert:hover {\n",
              "      background-color: #434B5C;\n",
              "      box-shadow: 0px 1px 3px 1px rgba(0, 0, 0, 0.15);\n",
              "      filter: drop-shadow(0px 1px 2px rgba(0, 0, 0, 0.3));\n",
              "      fill: #FFFFFF;\n",
              "    }\n",
              "  </style>\n",
              "\n",
              "      <script>\n",
              "        const buttonEl =\n",
              "          document.querySelector('#df-aead80f7-f756-46d3-93c1-342054137611 button.colab-df-convert');\n",
              "        buttonEl.style.display =\n",
              "          google.colab.kernel.accessAllowed ? 'block' : 'none';\n",
              "\n",
              "        async function convertToInteractive(key) {\n",
              "          const element = document.querySelector('#df-aead80f7-f756-46d3-93c1-342054137611');\n",
              "          const dataTable =\n",
              "            await google.colab.kernel.invokeFunction('convertToInteractive',\n",
              "                                                     [key], {});\n",
              "          if (!dataTable) return;\n",
              "\n",
              "          const docLinkHtml = 'Like what you see? Visit the ' +\n",
              "            '<a target=\"_blank\" href=https://colab.research.google.com/notebooks/data_table.ipynb>data table notebook</a>'\n",
              "            + ' to learn more about interactive tables.';\n",
              "          element.innerHTML = '';\n",
              "          dataTable['output_type'] = 'display_data';\n",
              "          await google.colab.output.renderOutput(dataTable, element);\n",
              "          const docLink = document.createElement('div');\n",
              "          docLink.innerHTML = docLinkHtml;\n",
              "          element.appendChild(docLink);\n",
              "        }\n",
              "      </script>\n",
              "    </div>\n",
              "  </div>\n",
              "  "
            ]
          },
          "metadata": {},
          "execution_count": 17
        }
      ],
      "source": [
        "df.replace({'keyword': \n",
        "             {\n",
        "              \"NIA | terror\" : \"terrorism\",\n",
        "              \"heroin | narcotics\" : \"drugs\",\n",
        "              \n",
        "              \"drug illegal | drug trafficking | narcotics\" :\"drugs\",\n",
        "              \"drug trafficking | heroin | human trafficking\" : \"human trafficking\",\n",
        "              \"CBI | smuggling\" : \"drugs\",\n",
        "              \"National Investigation Agency\" : \"terrorism\",\n",
        "              'drug illegal | money launder | money laundering' : \"money laundering\",\n",
        "              \"NIA | National Investigation Agency | heroin\" : \"drugs\",\n",
        "              \"Hawala\"  : \"CBI or others\" ,\n",
        "              'Hawala | NIA | National Investigation Agency | drug contraband | heroin | smuggling' : \"drugs\" ,\n",
        "              \"CBI | Central Bureau of Investigation | drug illegal | enforcement directorate\" : \"drugs\",\n",
        "              \"CBI | enforcement directorate | fraud | money laundering\" : \"money laundering\",\n",
        "              \"drug arrest | drug seize | heroin\" : \"drugs\" ,\n",
        "              'enforcement directorate | money laundering | siphoned' : \"money laundering\",\n",
        "              \"NIA | National Investigation Agency | terror\" : \"terrorism\",\n",
        "              \"NIA\" : \"terrorism\" ,\n",
        "               \"money laundering | terror\" : \"money laundering\",\n",
        "              \"CBI | enforcement directorate\" : \"CBI or others\",\n",
        "              \"Central Bureau of Investigation | enforcement directorate | money laundering\" : \"money laundering\",\n",
        "              \"Central Bureau of Investigation\" : \"CBI or others\",\n",
        "              \"ganja | narcotics\" : \"drugs\" ,\n",
        "              'CBI | Central Bureau of Investigation | National Investigation Agency | enforcement directorate | smuggling' : \"drugs\" ,\n",
        "              \"drug arrest | drug illegal | drug seize | ganja | smuggling\" : \"drugs\",\n",
        "              \"drug illegal | smuggling\" : \"drugs\",\n",
        "\n",
        "\n",
        "\n",
        "\n",
        "              'Hawala | fraud | siphoned' : \"fraud\",\n",
        "              \"drug arrest | drug illegal\"  : \"drugs\",\n",
        "              \"drug arrest | drug illegal | terror\" : \"drugs\",\n",
        "              \"money laundering | siphoned\" : \"money laundering\",\n",
        "\n",
        "              \"fraud | money laundering\" : \"money laundering\" ,\n",
        "              \"National Investigation Agency | terror\" : \"terrorism\",\n",
        "              \"drug arrest | ganja | narcotics\" : \"drugs\",\n",
        "              'drug arrest | drug contraband | ganja' : \"drugs\",\n",
        "              \"CBI | NIA | enforcement directorate | money laundering\" : \"money laundering\",\n",
        "              \"CBI | Hawala | enforcement directorate\" : \"CBI or others\",\n",
        "              \"NIA | National Investigation Agency | heroin | terror\" : \"terrorism\",\n",
        "              \"CBI | NIA | enforcement directorate | money laundering | terror\" : \"money laundering\" ,\n",
        "              \"Central Bureau of Investigation | National Investigation Agency | enforcement directorate\" : \"CBI or others\",\n",
        "              \"drug confiscate | drug seize | narcotics\" : \"drugs\" ,\n",
        "              \"National Investigation Agency | narcotics\" : \"drugs\" ,\n",
        "              \"CBI | Central Bureau of Investigation | NIA | National Investigation Agency | terror\" :  \"terrorism\",\n",
        "              \"enforcement directorate | siphoned\" : \"fraud\",\n",
        "              \"smuggling | terror | terror financing\" : \"terrorism\" ,\n",
        "\n",
        "\n",
        "\n",
        "      \n",
        "              \n",
        "              \n",
        "              'CBI | enforcement directorate | money laundering': \n",
        "              'money laundering', \n",
        "              'CBI | Central Bureau of Investigation' : 'CBI or others',\n",
        "             'CBI | National Investigation Agency': 'CBI or others',\n",
        "             'CBI' : 'CBI or others',\n",
        "             'terror': 'terrorism',\n",
        "             'narcotics': 'drugs',\n",
        "             'enforcement directorate | money laundering': 'money laundering',\n",
        "              'ganja':'drugs',\n",
        "              'CBI | terror':'terrorism',\n",
        "              'heroin':'drugs',\n",
        "              'CBI | Central Bureau of Investigation | enforcement directorate':\"money laundering\",\n",
        "              \"narcotics | opium | smuggling\":\"drugs\",\n",
        "              \"smuggling\":\"drugs\",\n",
        "              \"drug contraband | heroin | opium\":  \"drugs\",\n",
        "              \"ganja | smuggling\":\"drugs\",\n",
        "              \"CBI | Central Bureau of Investigation | enforcement directorate | money laundering | siphoned\":\"money laundering\",\n",
        "              \"CBI | Central Bureau of Investigation | fraud\":  \"CBI or others\",\n",
        "              \"fraud | siphoned\"  : \"CBI or others\",\n",
        "              'enforcement directorate | fraud' :    \"money laundering\",\n",
        "              \"CBI | Central Bureau of Investigation | National Investigation Agency\" :   \"CBI or others\",\n",
        "              'CBI | money laundering' :   \"money laundering\",\n",
        "              'Central Bureau of Investigation | NIA | National Investigation Agency' : \"CBI or others\",\n",
        "              \"CBI | Central Bureau of Investigation | smuggling\" : \"drugs\",\n",
        "              \"drug arrest | narcotics\" : \"drugs\",\n",
        "              \"drug arrest | ganja\" :   \"drugs\",\n",
        "              \"money launder\" :  \"money laundering\",\n",
        "              \"plastic money\" :  \"money laundering\",\n",
        "              \"enforcement directorate | fraud | money laundering\" : \"money laundering\",\n",
        "              \"CBI | Central Bureau of Investigation | enforcement directorate | fraud | money laundering\" : \"money laundering\",\n",
        "              \"CBI | Central Bureau of Investigation | enforcement directorate | money laundering\" : \"money laundering\",\n",
        "              \"CBI | Central Bureau of Investigation | enforcement directorate | smuggling\" : \"money laundering\",\n",
        "              \"enforcement directorate\" : \"money laundering\",\n",
        "              \"NIA | National Investigation Agency\":\"CBI or others\",\n",
        "              \"Central Bureau of Investigation | narcotics\" : \"drugs\",\n",
        "              \"drug contraband | heroin | narcotics\" :\"drugs\",\n",
        "              \"drug contraband | heroin | narcotics\":\"drugs\",\n",
        "              \"sex racket\" : \"human trafficking\",\n",
        "              \"narcotics | opium\": \"drugs\",\n",
        "              \"opium\" : \"drugs\",\n",
        "              \"Central Bureau of Investigation | National Investigation Agency | drug contraband | narcotics\" : \"drugs\",\n",
        "              'NIA | National Investigation Agency | heroin | smuggling' : \"drugs\",\n",
        "              'Central Bureau of Investigation | drug contraband | narcotics'  :   \"drugs\",\n",
        "              \"enforcement directorate | money laundering | smuggling\" : \"money laundering\",\n",
        "              \"drug illegal\" :  \"drugs\",\n",
        "              \"siphoned\"  : \"fraud\",\n",
        "              \"drug contraband | narcotics\" :  \"drugs\",\n",
        "              \"enforcement directorate | smuggling\" : \"drugs\",\n",
        "              \"drug contraband | narcotics\" : \"drugs\"\n",
        "              \n",
        "\n",
        "\n",
        "\n",
        "\n",
        "\n",
        "              \n",
        "              \n",
        "              \n",
        "              }}, \n",
        "            inplace= True)\n",
        "pd.DataFrame(df.keyword.unique())\n"
      ]
    },
    {
      "cell_type": "code",
      "execution_count": null,
      "metadata": {
        "colab": {
          "base_uri": "https://localhost:8080/",
          "height": 237
        },
        "id": "2TG4hOi5fexg",
        "outputId": "ebcc7f2d-62e8-41e1-c3b9-21b5587f33c0"
      },
      "outputs": [
        {
          "output_type": "execute_result",
          "data": {
            "text/plain": [
              "                   keyword\n",
              "CBI or others          106\n",
              "drugs                   70\n",
              "money laundering        57\n",
              "terrorism               36\n",
              "fraud                   29\n",
              "human trafficking        6"
            ],
            "text/html": [
              "\n",
              "  <div id=\"df-9262bcb8-9c81-4d10-bd27-47b4173151e0\">\n",
              "    <div class=\"colab-df-container\">\n",
              "      <div>\n",
              "<style scoped>\n",
              "    .dataframe tbody tr th:only-of-type {\n",
              "        vertical-align: middle;\n",
              "    }\n",
              "\n",
              "    .dataframe tbody tr th {\n",
              "        vertical-align: top;\n",
              "    }\n",
              "\n",
              "    .dataframe thead th {\n",
              "        text-align: right;\n",
              "    }\n",
              "</style>\n",
              "<table border=\"1\" class=\"dataframe\">\n",
              "  <thead>\n",
              "    <tr style=\"text-align: right;\">\n",
              "      <th></th>\n",
              "      <th>keyword</th>\n",
              "    </tr>\n",
              "  </thead>\n",
              "  <tbody>\n",
              "    <tr>\n",
              "      <th>CBI or others</th>\n",
              "      <td>106</td>\n",
              "    </tr>\n",
              "    <tr>\n",
              "      <th>drugs</th>\n",
              "      <td>70</td>\n",
              "    </tr>\n",
              "    <tr>\n",
              "      <th>money laundering</th>\n",
              "      <td>57</td>\n",
              "    </tr>\n",
              "    <tr>\n",
              "      <th>terrorism</th>\n",
              "      <td>36</td>\n",
              "    </tr>\n",
              "    <tr>\n",
              "      <th>fraud</th>\n",
              "      <td>29</td>\n",
              "    </tr>\n",
              "    <tr>\n",
              "      <th>human trafficking</th>\n",
              "      <td>6</td>\n",
              "    </tr>\n",
              "  </tbody>\n",
              "</table>\n",
              "</div>\n",
              "      <button class=\"colab-df-convert\" onclick=\"convertToInteractive('df-9262bcb8-9c81-4d10-bd27-47b4173151e0')\"\n",
              "              title=\"Convert this dataframe to an interactive table.\"\n",
              "              style=\"display:none;\">\n",
              "        \n",
              "  <svg xmlns=\"http://www.w3.org/2000/svg\" height=\"24px\"viewBox=\"0 0 24 24\"\n",
              "       width=\"24px\">\n",
              "    <path d=\"M0 0h24v24H0V0z\" fill=\"none\"/>\n",
              "    <path d=\"M18.56 5.44l.94 2.06.94-2.06 2.06-.94-2.06-.94-.94-2.06-.94 2.06-2.06.94zm-11 1L8.5 8.5l.94-2.06 2.06-.94-2.06-.94L8.5 2.5l-.94 2.06-2.06.94zm10 10l.94 2.06.94-2.06 2.06-.94-2.06-.94-.94-2.06-.94 2.06-2.06.94z\"/><path d=\"M17.41 7.96l-1.37-1.37c-.4-.4-.92-.59-1.43-.59-.52 0-1.04.2-1.43.59L10.3 9.45l-7.72 7.72c-.78.78-.78 2.05 0 2.83L4 21.41c.39.39.9.59 1.41.59.51 0 1.02-.2 1.41-.59l7.78-7.78 2.81-2.81c.8-.78.8-2.07 0-2.86zM5.41 20L4 18.59l7.72-7.72 1.47 1.35L5.41 20z\"/>\n",
              "  </svg>\n",
              "      </button>\n",
              "      \n",
              "  <style>\n",
              "    .colab-df-container {\n",
              "      display:flex;\n",
              "      flex-wrap:wrap;\n",
              "      gap: 12px;\n",
              "    }\n",
              "\n",
              "    .colab-df-convert {\n",
              "      background-color: #E8F0FE;\n",
              "      border: none;\n",
              "      border-radius: 50%;\n",
              "      cursor: pointer;\n",
              "      display: none;\n",
              "      fill: #1967D2;\n",
              "      height: 32px;\n",
              "      padding: 0 0 0 0;\n",
              "      width: 32px;\n",
              "    }\n",
              "\n",
              "    .colab-df-convert:hover {\n",
              "      background-color: #E2EBFA;\n",
              "      box-shadow: 0px 1px 2px rgba(60, 64, 67, 0.3), 0px 1px 3px 1px rgba(60, 64, 67, 0.15);\n",
              "      fill: #174EA6;\n",
              "    }\n",
              "\n",
              "    [theme=dark] .colab-df-convert {\n",
              "      background-color: #3B4455;\n",
              "      fill: #D2E3FC;\n",
              "    }\n",
              "\n",
              "    [theme=dark] .colab-df-convert:hover {\n",
              "      background-color: #434B5C;\n",
              "      box-shadow: 0px 1px 3px 1px rgba(0, 0, 0, 0.15);\n",
              "      filter: drop-shadow(0px 1px 2px rgba(0, 0, 0, 0.3));\n",
              "      fill: #FFFFFF;\n",
              "    }\n",
              "  </style>\n",
              "\n",
              "      <script>\n",
              "        const buttonEl =\n",
              "          document.querySelector('#df-9262bcb8-9c81-4d10-bd27-47b4173151e0 button.colab-df-convert');\n",
              "        buttonEl.style.display =\n",
              "          google.colab.kernel.accessAllowed ? 'block' : 'none';\n",
              "\n",
              "        async function convertToInteractive(key) {\n",
              "          const element = document.querySelector('#df-9262bcb8-9c81-4d10-bd27-47b4173151e0');\n",
              "          const dataTable =\n",
              "            await google.colab.kernel.invokeFunction('convertToInteractive',\n",
              "                                                     [key], {});\n",
              "          if (!dataTable) return;\n",
              "\n",
              "          const docLinkHtml = 'Like what you see? Visit the ' +\n",
              "            '<a target=\"_blank\" href=https://colab.research.google.com/notebooks/data_table.ipynb>data table notebook</a>'\n",
              "            + ' to learn more about interactive tables.';\n",
              "          element.innerHTML = '';\n",
              "          dataTable['output_type'] = 'display_data';\n",
              "          await google.colab.output.renderOutput(dataTable, element);\n",
              "          const docLink = document.createElement('div');\n",
              "          docLink.innerHTML = docLinkHtml;\n",
              "          element.appendChild(docLink);\n",
              "        }\n",
              "      </script>\n",
              "    </div>\n",
              "  </div>\n",
              "  "
            ]
          },
          "metadata": {},
          "execution_count": 18
        }
      ],
      "source": [
        "pd.DataFrame(df.keyword.value_counts())"
      ]
    },
    {
      "cell_type": "code",
      "execution_count": null,
      "metadata": {
        "id": "abhQu0cen_CQ"
      },
      "outputs": [],
      "source": [
        "df['category_id'] = df['keyword'].factorize()[0]"
      ]
    },
    {
      "cell_type": "code",
      "execution_count": null,
      "metadata": {
        "id": "e6XuihwiodaU"
      },
      "outputs": [],
      "source": [
        "category_id_df = df[['keyword', 'category_id']].drop_duplicates()"
      ]
    },
    {
      "cell_type": "code",
      "execution_count": null,
      "metadata": {
        "id": "v_xy1D4Aod61"
      },
      "outputs": [],
      "source": [
        "category_to_id = dict(category_id_df.values)\n",
        "id_to_category = dict(category_id_df[['category_id', 'keyword']].values)"
      ]
    },
    {
      "cell_type": "code",
      "execution_count": null,
      "metadata": {
        "colab": {
          "base_uri": "https://localhost:8080/",
          "height": 237
        },
        "id": "22qvkeWeo1YH",
        "outputId": "edf5f36a-ed7d-4383-fc02-31ea34b98d54"
      },
      "outputs": [
        {
          "output_type": "execute_result",
          "data": {
            "text/plain": [
              "              keyword  category_id\n",
              "0               drugs            0\n",
              "1       CBI or others            1\n",
              "9           terrorism            2\n",
              "12   money laundering            3\n",
              "16              fraud            4\n",
              "36  human trafficking            5"
            ],
            "text/html": [
              "\n",
              "  <div id=\"df-e0c0fb31-4b9f-4e5c-9794-4c10b238ad7a\">\n",
              "    <div class=\"colab-df-container\">\n",
              "      <div>\n",
              "<style scoped>\n",
              "    .dataframe tbody tr th:only-of-type {\n",
              "        vertical-align: middle;\n",
              "    }\n",
              "\n",
              "    .dataframe tbody tr th {\n",
              "        vertical-align: top;\n",
              "    }\n",
              "\n",
              "    .dataframe thead th {\n",
              "        text-align: right;\n",
              "    }\n",
              "</style>\n",
              "<table border=\"1\" class=\"dataframe\">\n",
              "  <thead>\n",
              "    <tr style=\"text-align: right;\">\n",
              "      <th></th>\n",
              "      <th>keyword</th>\n",
              "      <th>category_id</th>\n",
              "    </tr>\n",
              "  </thead>\n",
              "  <tbody>\n",
              "    <tr>\n",
              "      <th>0</th>\n",
              "      <td>drugs</td>\n",
              "      <td>0</td>\n",
              "    </tr>\n",
              "    <tr>\n",
              "      <th>1</th>\n",
              "      <td>CBI or others</td>\n",
              "      <td>1</td>\n",
              "    </tr>\n",
              "    <tr>\n",
              "      <th>9</th>\n",
              "      <td>terrorism</td>\n",
              "      <td>2</td>\n",
              "    </tr>\n",
              "    <tr>\n",
              "      <th>12</th>\n",
              "      <td>money laundering</td>\n",
              "      <td>3</td>\n",
              "    </tr>\n",
              "    <tr>\n",
              "      <th>16</th>\n",
              "      <td>fraud</td>\n",
              "      <td>4</td>\n",
              "    </tr>\n",
              "    <tr>\n",
              "      <th>36</th>\n",
              "      <td>human trafficking</td>\n",
              "      <td>5</td>\n",
              "    </tr>\n",
              "  </tbody>\n",
              "</table>\n",
              "</div>\n",
              "      <button class=\"colab-df-convert\" onclick=\"convertToInteractive('df-e0c0fb31-4b9f-4e5c-9794-4c10b238ad7a')\"\n",
              "              title=\"Convert this dataframe to an interactive table.\"\n",
              "              style=\"display:none;\">\n",
              "        \n",
              "  <svg xmlns=\"http://www.w3.org/2000/svg\" height=\"24px\"viewBox=\"0 0 24 24\"\n",
              "       width=\"24px\">\n",
              "    <path d=\"M0 0h24v24H0V0z\" fill=\"none\"/>\n",
              "    <path d=\"M18.56 5.44l.94 2.06.94-2.06 2.06-.94-2.06-.94-.94-2.06-.94 2.06-2.06.94zm-11 1L8.5 8.5l.94-2.06 2.06-.94-2.06-.94L8.5 2.5l-.94 2.06-2.06.94zm10 10l.94 2.06.94-2.06 2.06-.94-2.06-.94-.94-2.06-.94 2.06-2.06.94z\"/><path d=\"M17.41 7.96l-1.37-1.37c-.4-.4-.92-.59-1.43-.59-.52 0-1.04.2-1.43.59L10.3 9.45l-7.72 7.72c-.78.78-.78 2.05 0 2.83L4 21.41c.39.39.9.59 1.41.59.51 0 1.02-.2 1.41-.59l7.78-7.78 2.81-2.81c.8-.78.8-2.07 0-2.86zM5.41 20L4 18.59l7.72-7.72 1.47 1.35L5.41 20z\"/>\n",
              "  </svg>\n",
              "      </button>\n",
              "      \n",
              "  <style>\n",
              "    .colab-df-container {\n",
              "      display:flex;\n",
              "      flex-wrap:wrap;\n",
              "      gap: 12px;\n",
              "    }\n",
              "\n",
              "    .colab-df-convert {\n",
              "      background-color: #E8F0FE;\n",
              "      border: none;\n",
              "      border-radius: 50%;\n",
              "      cursor: pointer;\n",
              "      display: none;\n",
              "      fill: #1967D2;\n",
              "      height: 32px;\n",
              "      padding: 0 0 0 0;\n",
              "      width: 32px;\n",
              "    }\n",
              "\n",
              "    .colab-df-convert:hover {\n",
              "      background-color: #E2EBFA;\n",
              "      box-shadow: 0px 1px 2px rgba(60, 64, 67, 0.3), 0px 1px 3px 1px rgba(60, 64, 67, 0.15);\n",
              "      fill: #174EA6;\n",
              "    }\n",
              "\n",
              "    [theme=dark] .colab-df-convert {\n",
              "      background-color: #3B4455;\n",
              "      fill: #D2E3FC;\n",
              "    }\n",
              "\n",
              "    [theme=dark] .colab-df-convert:hover {\n",
              "      background-color: #434B5C;\n",
              "      box-shadow: 0px 1px 3px 1px rgba(0, 0, 0, 0.15);\n",
              "      filter: drop-shadow(0px 1px 2px rgba(0, 0, 0, 0.3));\n",
              "      fill: #FFFFFF;\n",
              "    }\n",
              "  </style>\n",
              "\n",
              "      <script>\n",
              "        const buttonEl =\n",
              "          document.querySelector('#df-e0c0fb31-4b9f-4e5c-9794-4c10b238ad7a button.colab-df-convert');\n",
              "        buttonEl.style.display =\n",
              "          google.colab.kernel.accessAllowed ? 'block' : 'none';\n",
              "\n",
              "        async function convertToInteractive(key) {\n",
              "          const element = document.querySelector('#df-e0c0fb31-4b9f-4e5c-9794-4c10b238ad7a');\n",
              "          const dataTable =\n",
              "            await google.colab.kernel.invokeFunction('convertToInteractive',\n",
              "                                                     [key], {});\n",
              "          if (!dataTable) return;\n",
              "\n",
              "          const docLinkHtml = 'Like what you see? Visit the ' +\n",
              "            '<a target=\"_blank\" href=https://colab.research.google.com/notebooks/data_table.ipynb>data table notebook</a>'\n",
              "            + ' to learn more about interactive tables.';\n",
              "          element.innerHTML = '';\n",
              "          dataTable['output_type'] = 'display_data';\n",
              "          await google.colab.output.renderOutput(dataTable, element);\n",
              "          const docLink = document.createElement('div');\n",
              "          docLink.innerHTML = docLinkHtml;\n",
              "          element.appendChild(docLink);\n",
              "        }\n",
              "      </script>\n",
              "    </div>\n",
              "  </div>\n",
              "  "
            ]
          },
          "metadata": {},
          "execution_count": 22
        }
      ],
      "source": [
        "category_id_df"
      ]
    },
    {
      "cell_type": "code",
      "execution_count": null,
      "metadata": {
        "colab": {
          "base_uri": "https://localhost:8080/",
          "height": 404
        },
        "id": "Mk6XlalKo2jW",
        "outputId": "2e5f0e2d-c11a-472e-e31c-2dbe793643f3"
      },
      "outputs": [
        {
          "output_type": "display_data",
          "data": {
            "text/plain": [
              "<Figure size 576x432 with 1 Axes>"
            ],
            "image/png": "[encoded data removed]"
          },
          "metadata": {
            "needs_background": "light"
          }
        }
      ],
      "source": [
        "fig = plt.figure(figsize=(8,6))\n",
        "colors = ['grey','grey','grey','grey','grey','grey','grey','grey','grey',\n",
        "    'grey','darkblue','darkblue','darkblue']\n",
        "df.groupby('keyword').text.count().sort_values().plot.barh(\n",
        "    ylim=0, color=colors, title= 'NUMBER OF COMPLAINTS IN EACH PRODUCT CATEGORYn')\n",
        "plt.xlabel('Number of ocurrences', fontsize = 10);"
      ]
    },
    {
      "cell_type": "code",
      "execution_count": null,
      "metadata": {
        "colab": {
          "base_uri": "https://localhost:8080/"
        },
        "id": "fYafya7dpDJI",
        "outputId": "36d9f1f0-fa80-4ded-87bc-c69369e95516"
      },
      "outputs": [
        {
          "output_type": "stream",
          "name": "stdout",
          "text": [
            "Each of the 304 doucuments is represented by 1913 features (TF-IDF score of unigrams and bigrams)\n"
          ]
        }
      ],
      "source": [
        "tfidf = TfidfVectorizer(sublinear_tf=True, min_df=5,\n",
        "                        ngram_range=(1, 2), \n",
        "                        stop_words='english')\n",
        "# We transform each complaint into a vector\n",
        "features = tfidf.fit_transform(df.text).toarray()\n",
        "labels = df.category_id\n",
        "print(\"Each of the %d doucuments is represented by %d features (TF-IDF score of unigrams and bigrams)\" %(features.shape))"
      ]
    },
    {
      "cell_type": "code",
      "execution_count": null,
      "metadata": {
        "colab": {
          "base_uri": "https://localhost:8080/"
        },
        "id": "Tvh3yzsVqNNj",
        "outputId": "fa70d95b-3777-4746-a640-6ccdf6958403"
      },
      "outputs": [
        {
          "output_type": "stream",
          "name": "stdout",
          "text": [
            "n==> CBI or others:\n",
            "  * Most Correlated Unigrams are: rampurhat, birbhum, cbi\n",
            "  * Most Correlated Bigrams are: west bengal, mamata banerjee, cbi probe\n",
            "n==> drugs:\n",
            "  * Most Correlated Unigrams are: narcotic, ganja, drug\n",
            "  * Most Correlated Bigrams are: seized kg, aryan khan, kg ganja\n",
            "n==> fraud:\n",
            "  * Most Correlated Unigrams are: share, fraud, duped\n",
            "  * Most Correlated Bigrams are: record statement, fraud case, bank account\n",
            "n==> human trafficking:\n",
            "  * Most Correlated Unigrams are: suit, trafficking, human\n",
            "  * Most Correlated Bigrams are: registered case, session judge, woman child\n",
            "n==> money laundering:\n",
            "  * Most Correlated Unigrams are: directorate, ed, laundering\n",
            "  * Most Correlated Bigrams are: directorate ed, enforcement directorate, money laundering\n",
            "n==> terrorism:\n",
            "  * Most Correlated Unigrams are: terrorist, encounter, terror\n",
            "  * Most Correlated Bigrams are: terrorist killed, killed encounter, militant killed\n"
          ]
        },
        {
          "output_type": "stream",
          "name": "stderr",
          "text": [
            "/usr/local/lib/python3.7/dist-packages/sklearn/utils/deprecation.py:87: FutureWarning: Function get_feature_names is deprecated; get_feature_names is deprecated in 1.0 and will be removed in 1.2. Please use get_feature_names_out instead.\n",
            "  warnings.warn(msg, category=FutureWarning)\n",
            "/usr/local/lib/python3.7/dist-packages/sklearn/utils/deprecation.py:87: FutureWarning: Function get_feature_names is deprecated; get_feature_names is deprecated in 1.0 and will be removed in 1.2. Please use get_feature_names_out instead.\n",
            "  warnings.warn(msg, category=FutureWarning)\n",
            "/usr/local/lib/python3.7/dist-packages/sklearn/utils/deprecation.py:87: FutureWarning: Function get_feature_names is deprecated; get_feature_names is deprecated in 1.0 and will be removed in 1.2. Please use get_feature_names_out instead.\n",
            "  warnings.warn(msg, category=FutureWarning)\n",
            "/usr/local/lib/python3.7/dist-packages/sklearn/utils/deprecation.py:87: FutureWarning: Function get_feature_names is deprecated; get_feature_names is deprecated in 1.0 and will be removed in 1.2. Please use get_feature_names_out instead.\n",
            "  warnings.warn(msg, category=FutureWarning)\n",
            "/usr/local/lib/python3.7/dist-packages/sklearn/utils/deprecation.py:87: FutureWarning: Function get_feature_names is deprecated; get_feature_names is deprecated in 1.0 and will be removed in 1.2. Please use get_feature_names_out instead.\n",
            "  warnings.warn(msg, category=FutureWarning)\n",
            "/usr/local/lib/python3.7/dist-packages/sklearn/utils/deprecation.py:87: FutureWarning: Function get_feature_names is deprecated; get_feature_names is deprecated in 1.0 and will be removed in 1.2. Please use get_feature_names_out instead.\n",
            "  warnings.warn(msg, category=FutureWarning)\n"
          ]
        }
      ],
      "source": [
        "N = 3\n",
        "for Product, category_id in sorted(category_to_id.items()):\n",
        "  features_chi2 = chi2(features, labels == category_id)\n",
        "  indices = np.argsort(features_chi2[0])\n",
        "  feature_names = np.array(tfidf.get_feature_names())[indices]\n",
        "  unigrams = [v for v in feature_names if len(v.split(' ')) == 1]\n",
        "  bigrams = [v for v in feature_names if len(v.split(' ')) == 2]\n",
        "  print(\"n==> %s:\" %(Product))\n",
        "  print(\"  * Most Correlated Unigrams are: %s\" %(', '.join(unigrams[-N:])))\n",
        "  print(\"  * Most Correlated Bigrams are: %s\" %(', '.join(bigrams[-N:])))"
      ]
    },
    {
      "cell_type": "code",
      "execution_count": null,
      "metadata": {
        "id": "JThKAVRisJs-"
      },
      "outputs": [],
      "source": [
        "X = df['text'] # Collection of documents\n",
        "y = df['keyword'] # Target or the labels we want to predict \n",
        "X_train, X_test, y_train, y_test = train_test_split(X, y, \n",
        "                                                    test_size=0.2,\n",
        "                                                    random_state = 0)"
      ]
    },
    {
      "cell_type": "code",
      "execution_count": null,
      "metadata": {
        "id": "3GGJ_PNXsnwD"
      },
      "outputs": [],
      "source": [
        "models = [\n",
        "    RandomForestClassifier(n_estimators=100, max_depth=5, random_state=0),\n",
        "    LinearSVC(),\n",
        "    MultinomialNB(),\n",
        "    LogisticRegression(random_state=0),\n",
        "]"
      ]
    },
    {
      "cell_type": "code",
      "execution_count": null,
      "metadata": {
        "id": "uRi-jebesope"
      },
      "outputs": [],
      "source": [
        "# 5 Cross-validation\n",
        "CV = 5\n",
        "cv_df = pd.DataFrame(index=range(CV * len(models)))"
      ]
    },
    {
      "cell_type": "code",
      "execution_count": null,
      "metadata": {
        "id": "xLIdHcyPtT5x"
      },
      "outputs": [],
      "source": [
        "entries = []\n",
        "for model in models:\n",
        "  model_name = model.__class__.__name__\n",
        "  accuracies = cross_val_score(model, features, labels, scoring='accuracy', cv=CV)\n",
        "  for fold_idx, accuracy in enumerate(accuracies):\n",
        "    entries.append((model_name, fold_idx, accuracy))\n",
        "cv_df = pd.DataFrame(entries, columns=['model_name', 'fold_idx', 'accuracy'])"
      ]
    },
    {
      "cell_type": "code",
      "execution_count": null,
      "metadata": {
        "colab": {
          "base_uri": "https://localhost:8080/",
          "height": 206
        },
        "id": "7JvLearjtmjm",
        "outputId": "b6de50b3-2dee-4be1-e4fa-f0549bf08c04"
      },
      "outputs": [
        {
          "output_type": "execute_result",
          "data": {
            "text/plain": [
              "                        Mean Accuracy  Standard deviation\n",
              "model_name                                               \n",
              "LinearSVC                    0.743607            0.058989\n",
              "LogisticRegression           0.647978            0.034531\n",
              "MultinomialNB                0.631530            0.036452\n",
              "RandomForestClassifier       0.628361            0.036820"
            ],
            "text/html": [
              "\n",
              "  <div id=\"df-839156ab-615d-4465-b1de-867439da54b8\">\n",
              "    <div class=\"colab-df-container\">\n",
              "      <div>\n",
              "<style scoped>\n",
              "    .dataframe tbody tr th:only-of-type {\n",
              "        vertical-align: middle;\n",
              "    }\n",
              "\n",
              "    .dataframe tbody tr th {\n",
              "        vertical-align: top;\n",
              "    }\n",
              "\n",
              "    .dataframe thead th {\n",
              "        text-align: right;\n",
              "    }\n",
              "</style>\n",
              "<table border=\"1\" class=\"dataframe\">\n",
              "  <thead>\n",
              "    <tr style=\"text-align: right;\">\n",
              "      <th></th>\n",
              "      <th>Mean Accuracy</th>\n",
              "      <th>Standard deviation</th>\n",
              "    </tr>\n",
              "    <tr>\n",
              "      <th>model_name</th>\n",
              "      <th></th>\n",
              "      <th></th>\n",
              "    </tr>\n",
              "  </thead>\n",
              "  <tbody>\n",
              "    <tr>\n",
              "      <th>LinearSVC</th>\n",
              "      <td>0.743607</td>\n",
              "      <td>0.058989</td>\n",
              "    </tr>\n",
              "    <tr>\n",
              "      <th>LogisticRegression</th>\n",
              "      <td>0.647978</td>\n",
              "      <td>0.034531</td>\n",
              "    </tr>\n",
              "    <tr>\n",
              "      <th>MultinomialNB</th>\n",
              "      <td>0.631530</td>\n",
              "      <td>0.036452</td>\n",
              "    </tr>\n",
              "    <tr>\n",
              "      <th>RandomForestClassifier</th>\n",
              "      <td>0.628361</td>\n",
              "      <td>0.036820</td>\n",
              "    </tr>\n",
              "  </tbody>\n",
              "</table>\n",
              "</div>\n",
              "      <button class=\"colab-df-convert\" onclick=\"convertToInteractive('df-839156ab-615d-4465-b1de-867439da54b8')\"\n",
              "              title=\"Convert this dataframe to an interactive table.\"\n",
              "              style=\"display:none;\">\n",
              "        \n",
              "  <svg xmlns=\"http://www.w3.org/2000/svg\" height=\"24px\"viewBox=\"0 0 24 24\"\n",
              "       width=\"24px\">\n",
              "    <path d=\"M0 0h24v24H0V0z\" fill=\"none\"/>\n",
              "    <path d=\"M18.56 5.44l.94 2.06.94-2.06 2.06-.94-2.06-.94-.94-2.06-.94 2.06-2.06.94zm-11 1L8.5 8.5l.94-2.06 2.06-.94-2.06-.94L8.5 2.5l-.94 2.06-2.06.94zm10 10l.94 2.06.94-2.06 2.06-.94-2.06-.94-.94-2.06-.94 2.06-2.06.94z\"/><path d=\"M17.41 7.96l-1.37-1.37c-.4-.4-.92-.59-1.43-.59-.52 0-1.04.2-1.43.59L10.3 9.45l-7.72 7.72c-.78.78-.78 2.05 0 2.83L4 21.41c.39.39.9.59 1.41.59.51 0 1.02-.2 1.41-.59l7.78-7.78 2.81-2.81c.8-.78.8-2.07 0-2.86zM5.41 20L4 18.59l7.72-7.72 1.47 1.35L5.41 20z\"/>\n",
              "  </svg>\n",
              "      </button>\n",
              "      \n",
              "  <style>\n",
              "    .colab-df-container {\n",
              "      display:flex;\n",
              "      flex-wrap:wrap;\n",
              "      gap: 12px;\n",
              "    }\n",
              "\n",
              "    .colab-df-convert {\n",
              "      background-color: #E8F0FE;\n",
              "      border: none;\n",
              "      border-radius: 50%;\n",
              "      cursor: pointer;\n",
              "      display: none;\n",
              "      fill: #1967D2;\n",
              "      height: 32px;\n",
              "      padding: 0 0 0 0;\n",
              "      width: 32px;\n",
              "    }\n",
              "\n",
              "    .colab-df-convert:hover {\n",
              "      background-color: #E2EBFA;\n",
              "      box-shadow: 0px 1px 2px rgba(60, 64, 67, 0.3), 0px 1px 3px 1px rgba(60, 64, 67, 0.15);\n",
              "      fill: #174EA6;\n",
              "    }\n",
              "\n",
              "    [theme=dark] .colab-df-convert {\n",
              "      background-color: #3B4455;\n",
              "      fill: #D2E3FC;\n",
              "    }\n",
              "\n",
              "    [theme=dark] .colab-df-convert:hover {\n",
              "      background-color: #434B5C;\n",
              "      box-shadow: 0px 1px 3px 1px rgba(0, 0, 0, 0.15);\n",
              "      filter: drop-shadow(0px 1px 2px rgba(0, 0, 0, 0.3));\n",
              "      fill: #FFFFFF;\n",
              "    }\n",
              "  </style>\n",
              "\n",
              "      <script>\n",
              "        const buttonEl =\n",
              "          document.querySelector('#df-839156ab-615d-4465-b1de-867439da54b8 button.colab-df-convert');\n",
              "        buttonEl.style.display =\n",
              "          google.colab.kernel.accessAllowed ? 'block' : 'none';\n",
              "\n",
              "        async function convertToInteractive(key) {\n",
              "          const element = document.querySelector('#df-839156ab-615d-4465-b1de-867439da54b8');\n",
              "          const dataTable =\n",
              "            await google.colab.kernel.invokeFunction('convertToInteractive',\n",
              "                                                     [key], {});\n",
              "          if (!dataTable) return;\n",
              "\n",
              "          const docLinkHtml = 'Like what you see? Visit the ' +\n",
              "            '<a target=\"_blank\" href=https://colab.research.google.com/notebooks/data_table.ipynb>data table notebook</a>'\n",
              "            + ' to learn more about interactive tables.';\n",
              "          element.innerHTML = '';\n",
              "          dataTable['output_type'] = 'display_data';\n",
              "          await google.colab.output.renderOutput(dataTable, element);\n",
              "          const docLink = document.createElement('div');\n",
              "          docLink.innerHTML = docLinkHtml;\n",
              "          element.appendChild(docLink);\n",
              "        }\n",
              "      </script>\n",
              "    </div>\n",
              "  </div>\n",
              "  "
            ]
          },
          "metadata": {},
          "execution_count": 30
        }
      ],
      "source": [
        "mean_accuracy = cv_df.groupby('model_name').accuracy.mean()\n",
        "std_accuracy = cv_df.groupby('model_name').accuracy.std()\n",
        "\n",
        "acc = pd.concat([mean_accuracy, std_accuracy], axis= 1, \n",
        "          ignore_index=True)\n",
        "acc.columns = ['Mean Accuracy', 'Standard deviation']\n",
        "acc"
      ]
    },
    {
      "cell_type": "code",
      "execution_count": null,
      "metadata": {
        "id": "f_apigtluQKU"
      },
      "outputs": [],
      "source": [
        "X_train, X_test, y_train, y_test,indices_train,indices_test = train_test_split(features, \n",
        "                                                               labels, \n",
        "                                                               df.index, test_size=0.2, \n",
        "                                                               random_state=1)\n",
        "model = LinearSVC()\n",
        "model.fit(X_train, y_train)\n",
        "y_pred = model.predict(X_test)"
      ]
    },
    {
      "cell_type": "code",
      "execution_count": null,
      "metadata": {
        "colab": {
          "base_uri": "https://localhost:8080/"
        },
        "id": "B3MhjaKAubRF",
        "outputId": "bf87b8be-b42a-4030-f4f9-669ee2fac36f"
      },
      "outputs": [
        {
          "output_type": "stream",
          "name": "stdout",
          "text": [
            "ttttCLASSIFICATIION METRICSn\n",
            "                   precision    recall  f1-score   support\n",
            "\n",
            "            drugs       0.75      0.69      0.72        13\n",
            "    CBI or others       0.44      0.75      0.56        20\n",
            "        terrorism       1.00      0.25      0.40         8\n",
            " money laundering       0.70      0.58      0.64        12\n",
            "            fraud       0.33      0.17      0.22         6\n",
            "human trafficking       0.00      0.00      0.00         2\n",
            "\n",
            "         accuracy                           0.56        61\n",
            "        macro avg       0.54      0.41      0.42        61\n",
            "     weighted avg       0.61      0.56      0.54        61\n",
            "\n"
          ]
        },
        {
          "output_type": "stream",
          "name": "stderr",
          "text": [
            "/usr/local/lib/python3.7/dist-packages/sklearn/metrics/_classification.py:1318: UndefinedMetricWarning: Precision and F-score are ill-defined and being set to 0.0 in labels with no predicted samples. Use `zero_division` parameter to control this behavior.\n",
            "  _warn_prf(average, modifier, msg_start, len(result))\n",
            "/usr/local/lib/python3.7/dist-packages/sklearn/metrics/_classification.py:1318: UndefinedMetricWarning: Precision and F-score are ill-defined and being set to 0.0 in labels with no predicted samples. Use `zero_division` parameter to control this behavior.\n",
            "  _warn_prf(average, modifier, msg_start, len(result))\n",
            "/usr/local/lib/python3.7/dist-packages/sklearn/metrics/_classification.py:1318: UndefinedMetricWarning: Precision and F-score are ill-defined and being set to 0.0 in labels with no predicted samples. Use `zero_division` parameter to control this behavior.\n",
            "  _warn_prf(average, modifier, msg_start, len(result))\n"
          ]
        }
      ],
      "source": [
        "# Classification report\n",
        "print('ttttCLASSIFICATIION METRICSn')\n",
        "print(metrics.classification_report(y_test, y_pred, \n",
        "                                    target_names= df['keyword'].unique()))"
      ]
    },
    {
      "cell_type": "code",
      "execution_count": null,
      "metadata": {
        "colab": {
          "base_uri": "https://localhost:8080/"
        },
        "id": "w_xvzjFfumQz",
        "outputId": "7e8dae4c-ba4f-471f-a40c-18262c45b18e"
      },
      "outputs": [
        {
          "output_type": "execute_result",
          "data": {
            "text/plain": [
              "array([1, 1, 1, 4, 1, 0, 1, 2, 1, 3, 1, 4, 3, 1, 3, 3, 0, 3, 1, 1, 1, 3,\n",
              "       3, 0, 1, 0, 0, 1, 1, 1, 1, 1, 1, 1, 1, 1, 0, 1, 0, 3, 1, 1, 2, 4,\n",
              "       1, 0, 1, 0, 1, 1, 0, 1, 1, 0, 1, 3, 0, 1, 3, 1, 1])"
            ]
          },
          "metadata": {},
          "execution_count": 33
        }
      ],
      "source": [
        "y_pred"
      ]
    },
    {
      "cell_type": "code",
      "execution_count": null,
      "metadata": {
        "colab": {
          "base_uri": "https://localhost:8080/"
        },
        "id": "uQhiC2Uxun0U",
        "outputId": "b45b466b-8446-4484-f5b0-c0b69bd49d94"
      },
      "outputs": [
        {
          "output_type": "execute_result",
          "data": {
            "text/plain": [
              "array([3, 1, 0, 3, 3, 0, 1, 2, 5, 1, 1, 1, 1, 2, 3, 3, 0, 1, 1, 3, 1, 3,\n",
              "       3, 0, 2, 1, 2, 1, 4, 2, 4, 3, 1, 0, 4, 5, 0, 1, 0, 3, 4, 0, 2, 4,\n",
              "       1, 2, 1, 0, 1, 1, 0, 1, 2, 0, 4, 3, 0, 1, 3, 1, 0])"
            ]
          },
          "metadata": {},
          "execution_count": 34
        }
      ],
      "source": [
        "t=np.array(y_test)\n",
        "t"
      ]
    },
    {
      "cell_type": "code",
      "execution_count": null,
      "metadata": {
        "id": "rlZ81aACk2i2"
      },
      "outputs": [],
      "source": [
        "text = '''\"ED attaches Uddhav Thackeray kinâ€™s assets; MVA cries vendetta\n",
        "\n",
        "MUMBAI: The Enforcement Directorate has provisionally attached properties worth Rs 6.45 crore, including 11 residential flats at Thane, belonging to a company controlled and owned by Shridhar Madhav Patankar, brother-in-law of chief minister Uddhav Thackeray . Patankar is brother of Rashmi Thackeray, wife of the CM and editor of Saamna newspaper. The action against Shree Saibaba Grihanirmiti Pvt Ltd was linked to a five-year-old money laundering case. The ED in a press release said the Pushpak Group, which was under investigation for money laundering, had diverted unaccounted funds into the bank accounts of Shree Saibaba Grihanirmiti, which was then used for purchasing 11 flats in the Neelambari Project at Thane. Patankar was not reachable for comment. Earlier ED had summoned him but he failed to present himself to record a statement, said sources. The move by the ED drew sharp reactions from the parties which make up the ruling coalition in Maharashtra. NCP chief Sharad Pawar said, â€œThe biggest problem is the gross abuse of central agencies to settle political scores. Prima facie, it appears that it is political vendetta , it is a politically motivated action.â€ Pawar said a decade ago, no one even knew the existence of the ED. However, now the agency had become a household name. Sena MP Sanjay Raut said, â€œIt seems that ED is active only in those states where there is a non-BJP government..â€ The attachment had its origin in a demonetisation case involving Pushpak Bullion in 2017 when Sena and BJP were in an alliance. The ED had then registered a money laundering case against Pushpak group companies and arrested the promoter Chandrakant Patel. It was alleged that Patel accepted Rs 84 crore during demonetisation which were proceeds from sale of 258kg of gold.\"\n",
        "'''"
      ]
    },
    {
      "cell_type": "code",
      "source": [
        "text"
      ],
      "metadata": {
        "colab": {
          "base_uri": "https://localhost:8080/"
        },
        "id": "DPVbf57M8-4q",
        "outputId": "75e568fc-24cd-4b1a-e93a-a78eb0edc00b"
      },
      "execution_count": null,
      "outputs": [
        {
          "output_type": "execute_result",
          "data": {
            "text/plain": [
              "array([['\"ED attaches Uddhav Thackeray kinâ€™s assets; MVA cries vendetta\\n\\nMUMBAI: The Enforcement Directorate has provisionally attached properties worth Rs 6.45 crore, including 11 residential flats at Thane, belonging to a company controlled and owned by Shridhar Madhav Patankar, brother-in-law of chief minister Uddhav Thackeray . Patankar is brother of Rashmi Thackeray, wife of the CM and editor of Saamna newspaper. The action against Shree Saibaba Grihanirmiti Pvt Ltd was linked to a five-year-old money laundering case. The ED in a press release said the Pushpak Group, which was under investigation for money laundering, had diverted unaccounted funds into the bank accounts of Shree Saibaba Grihanirmiti, which was then used for purchasing 11 flats in the Neelambari Project at Thane. Patankar was not reachable for comment. Earlier ED had summoned him but he failed to present himself to record a statement, said sources. The move by the ED drew sharp reactions from the parties which make up the ruling coalition in Maharashtra. NCP chief Sharad Pawar said, â€œThe biggest problem is the gross abuse of central agencies to settle political scores. Prima facie, it appears that it is political vendetta , it is a politically motivated action.â€\\x9d Pawar said a decade ago, no one even knew the existence of the ED. However, now the agency had become a household name. Sena MP Sanjay Raut said, â€œIt seems that ED is active only in those states where there is a non-BJP government..â€\\x9d The attachment had its origin in a demonetisation case involving Pushpak Bullion in 2017 when Sena and BJP were in an alliance. The ED had then registered a money laundering case against Pushpak group companies and arrested the promoter Chandrakant Patel. It was alleged that Patel accepted Rs 84 crore during demonetisation which were proceeds from sale of 258kg of gold.\"\\n']],\n",
              "      dtype='<U1863')"
            ]
          },
          "metadata": {},
          "execution_count": 65
        }
      ]
    },
    {
      "cell_type": "code",
      "execution_count": null,
      "metadata": {
        "id": "NbmkT8QclmND"
      },
      "outputs": [],
      "source": [
        "X_train, X_test, y_train, y_test = train_test_split(X, y, \n",
        "                                                    test_size=0.25,\n",
        "                                                    random_state = 0)\n",
        "tfidf = TfidfVectorizer(sublinear_tf=True, min_df=5,\n",
        "                        ngram_range=(1, 2), \n",
        "                        stop_words='english')\n",
        "fitted_vectorizer = tfidf.fit(X_train)\n",
        "tfidf_vectorizer_vectors = fitted_vectorizer.transform(X_train)\n",
        "model = LinearSVC().fit(tfidf_vectorizer_vectors, y_train)"
      ]
    },
    {
      "cell_type": "code",
      "source": [
        "import pickle\n",
        "with open(\"tfidf.pkl\", 'wb') as file:\n",
        "    pickle.dump(tfidf, file)"
      ],
      "metadata": {
        "id": "HZF-IOCRaoOU"
      },
      "execution_count": null,
      "outputs": []
    },
    {
      "cell_type": "code",
      "execution_count": null,
      "metadata": {
        "colab": {
          "base_uri": "https://localhost:8080/"
        },
        "id": "T5lpccaku0m8",
        "outputId": "aff083c6-9a54-4176-8a9a-727f4d89c479"
      },
      "outputs": [
        {
          "output_type": "stream",
          "name": "stdout",
          "text": [
            "['money laundering']\n"
          ]
        }
      ],
      "source": [
        "print(model.predict(fitted_vectorizer.transform([text])))"
      ]
    },
    {
      "cell_type": "code",
      "execution_count": null,
      "metadata": {
        "id": "dGg1vGMFl2lY",
        "colab": {
          "base_uri": "https://localhost:8080/"
        },
        "outputId": "dac9cc04-e3b8-4915-9a6f-b36107473805"
      },
      "outputs": [
        {
          "output_type": "execute_result",
          "data": {
            "text/plain": [
              "['model.sav']"
            ]
          },
          "metadata": {},
          "execution_count": 47
        }
      ],
      "source": [
        "import joblib\n",
        "filename = 'model.sav'\n",
        "joblib.dump(model, filename)"
      ]
    },
    {
      "cell_type": "code",
      "source": [
        "loaded_model = joblib.load(filename)\n",
        "loaded_model.predict(fitted_vectorizer.transform([text]))"
      ],
      "metadata": {
        "colab": {
          "base_uri": "https://localhost:8080/"
        },
        "id": "LvLUBOEDZaXd",
        "outputId": "79d5e338-a524-4504-cf3f-ee3faa9bbd1a"
      },
      "execution_count": null,
      "outputs": [
        {
          "output_type": "execute_result",
          "data": {
            "text/plain": [
              "array(['money laundering'], dtype=object)"
            ]
          },
          "metadata": {},
          "execution_count": 50
        }
      ]
    },
    {
      "cell_type": "code",
      "source": [
        "vectorizer = pickle.load(open(\"tfidf.pkl\", \"rb\"))\n",
        "'''\n",
        "retfidf = TfidfVectorizer(sublinear_tf=True, min_df=5,\n",
        "                        ngram_range=(1, 2), \n",
        "                        stop_words='english',vocabulary=\"vocab.pkl\")\n",
        "'''\n",
        "#retfidfvect=retfidf.fit_transform([text])\n",
        "k=loaded_model.predict(vectorizer.transform([text]))"
      ],
      "metadata": {
        "id": "vCW3H9uvZpPB"
      },
      "execution_count": null,
      "outputs": []
    },
    {
      "cell_type": "code",
      "source": [
        "text"
      ],
      "metadata": {
        "colab": {
          "base_uri": "https://localhost:8080/",
          "height": 145
        },
        "id": "XfvQkCZhdDOF",
        "outputId": "746a2dae-aec5-40b0-ed96-7ba733e32390"
      },
      "execution_count": null,
      "outputs": [
        {
          "output_type": "execute_result",
          "data": {
            "text/plain": [
              "'\"ED attaches Uddhav Thackeray kinâ€™s assets; MVA cries vendetta\\n\\nMUMBAI: The Enforcement Directorate has provisionally attached properties worth Rs 6.45 crore, including 11 residential flats at Thane, belonging to a company controlled and owned by Shridhar Madhav Patankar, brother-in-law of chief minister Uddhav Thackeray . Patankar is brother of Rashmi Thackeray, wife of the CM and editor of Saamna newspaper. The action against Shree Saibaba Grihanirmiti Pvt Ltd was linked to a five-year-old money laundering case. The ED in a press release said the Pushpak Group, which was under investigation for money laundering, had diverted unaccounted funds into the bank accounts of Shree Saibaba Grihanirmiti, which was then used for purchasing 11 flats in the Neelambari Project at Thane. Patankar was not reachable for comment. Earlier ED had summoned him but he failed to present himself to record a statement, said sources. The move by the ED drew sharp reactions from the parties which make up the ruling coalition in Maharashtra. NCP chief Sharad Pawar said, â€œThe biggest problem is the gross abuse of central agencies to settle political scores. Prima facie, it appears that it is political vendetta , it is a politically motivated action.â€\\x9d Pawar said a decade ago, no one even knew the existence of the ED. However, now the agency had become a household name. Sena MP Sanjay Raut said, â€œIt seems that ED is active only in those states where there is a non-BJP government..â€\\x9d The attachment had its origin in a demonetisation case involving Pushpak Bullion in 2017 when Sena and BJP were in an alliance. The ED had then registered a money laundering case against Pushpak group companies and arrested the promoter Chandrakant Patel. It was alleged that Patel accepted Rs 84 crore during demonetisation which were proceeds from sale of 258kg of gold.\"\\n'"
            ],
            "application/vnd.google.colaboratory.intrinsic+json": {
              "type": "string"
            }
          },
          "metadata": {},
          "execution_count": 75
        }
      ]
    },
    {
      "cell_type": "code",
      "source": [
        "print(k)"
      ],
      "metadata": {
        "colab": {
          "base_uri": "https://localhost:8080/"
        },
        "id": "CK8-8-SUdpc2",
        "outputId": "b7a74259-a12e-4db1-9de9-e1f8968f063b"
      },
      "execution_count": null,
      "outputs": [
        {
          "output_type": "stream",
          "name": "stdout",
          "text": [
            "['money laundering']\n"
          ]
        }
      ]
    },
    {
      "cell_type": "code",
      "source": [],
      "metadata": {
        "id": "gLXpzoCllAAq"
      },
      "execution_count": null,
      "outputs": []
    }
  ],
  "metadata": {
    "colab": {
      "provenance": []
    },
    "kernelspec": {
      "display_name": "Python 3",
      "name": "python3"
    },
    "language_info": {
      "name": "python"
    }
  },
  "nbformat": 4,
  "nbformat_minor": 0
}